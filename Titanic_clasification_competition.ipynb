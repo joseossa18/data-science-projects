{
  "nbformat": 4,
  "nbformat_minor": 0,
  "metadata": {
    "colab": {
      "provenance": [],
      "collapsed_sections": [
        "fTYtNLs5XKpf",
        "FjuaDlLv5c-y"
      ]
    },
    "kernelspec": {
      "name": "python3",
      "display_name": "Python 3"
    },
    "language_info": {
      "name": "python"
    }
  },
  "cells": [
    {
      "cell_type": "markdown",
      "source": [
        "#Survival classification using Titanic dataset"
      ],
      "metadata": {
        "id": "8pFrn35ZTs14"
      }
    },
    {
      "cell_type": "markdown",
      "source": [
        "This notebook adress the problem of predicting if the passangers of the Titanic would survive or not, using some simple information about demography, tickets and location.\n",
        "In this case, the whole process to address a Data Science process is done. Starting by the cleaning of the data, the exploratory data análisis, feature engineering and implementation and tuning of models."
      ],
      "metadata": {
        "id": "qAzFtEZxT2fD"
      }
    },
    {
      "cell_type": "markdown",
      "source": [
        "#Loading Libraries"
      ],
      "metadata": {
        "id": "_0RAtlrgU45H"
      }
    },
    {
      "cell_type": "code",
      "source": [
        "import numpy as np\n",
        "import pandas as pd\n",
        "import matplotlib.pyplot as plt\n",
        "from pandas import read_csv, set_option\n",
        "from pandas.plotting import scatter_matrix\n",
        "import seaborn as sns\n",
        "from sklearn.preprocessing import StandardScaler\n",
        "from sklearn.model_selection import train_test_split, KFold, cross_val_score, GridSearchCV\n",
        "from sklearn.linear_model import LogisticRegression\n",
        "from sklearn.tree import DecisionTreeClassifier\n",
        "from sklearn.svm import SVC\n",
        "from sklearn.naive_bayes import GaussianNB\n",
        "from sklearn.neighbors import KNeighborsClassifier\n",
        "from sklearn.discriminant_analysis import LinearDiscriminantAnalysis\n",
        "from sklearn.neural_network import MLPClassifier\n",
        "from sklearn.pipeline import Pipeline\n",
        "from sklearn.ensemble import AdaBoostClassifier, GradientBoostingClassifier, RandomForestClassifier, ExtraTreesClassifier\n",
        "from sklearn.metrics import classification_report, confusion_matrix, accuracy_score\n",
        "#Diable the warnings\n",
        "import warnings\n",
        "warnings.filterwarnings('ignore')"
      ],
      "metadata": {
        "id": "4s936aNT38uP"
      },
      "execution_count": 248,
      "outputs": []
    },
    {
      "cell_type": "markdown",
      "source": [
        "#Loading data"
      ],
      "metadata": {
        "id": "Dg1IEBzfVCE6"
      }
    },
    {
      "cell_type": "markdown",
      "source": [
        "This problem was taken from a Kaggle competition, so we have a test data that is not labeled. This is the prediction that must be made to participate in the competition.\n",
        "We start by concatenating the 2 datasets to make the data cleaning the same for both, however we are going to split them later."
      ],
      "metadata": {
        "id": "-p64V1vAVbPi"
      }
    },
    {
      "cell_type": "code",
      "execution_count": 249,
      "metadata": {
        "colab": {
          "base_uri": "https://localhost:8080/",
          "height": 285
        },
        "id": "nbxioLBG9Yhg",
        "outputId": "44eee54d-3a00-4b1e-d771-9cdb8abe8281"
      },
      "outputs": [
        {
          "output_type": "execute_result",
          "data": {
            "text/plain": [
              "   PassengerId  Survived  Pclass  \\\n",
              "0            1         0       3   \n",
              "1            2         1       1   \n",
              "2            3         1       3   \n",
              "3            4         1       1   \n",
              "4            5         0       3   \n",
              "\n",
              "                                                Name     Sex   Age  SibSp  \\\n",
              "0                            Braund, Mr. Owen Harris    male  22.0      1   \n",
              "1  Cumings, Mrs. John Bradley (Florence Briggs Th...  female  38.0      1   \n",
              "2                             Heikkinen, Miss. Laina  female  26.0      0   \n",
              "3       Futrelle, Mrs. Jacques Heath (Lily May Peel)  female  35.0      1   \n",
              "4                           Allen, Mr. William Henry    male  35.0      0   \n",
              "\n",
              "   Parch            Ticket     Fare Cabin Embarked  \n",
              "0      0         A/5 21171   7.2500   NaN        S  \n",
              "1      0          PC 17599  71.2833   C85        C  \n",
              "2      0  STON/O2. 3101282   7.9250   NaN        S  \n",
              "3      0            113803  53.1000  C123        S  \n",
              "4      0            373450   8.0500   NaN        S  "
            ],
            "text/html": [
              "\n",
              "  <div id=\"df-ea734eb3-a9f2-491d-910f-9477b6a91aa6\">\n",
              "    <div class=\"colab-df-container\">\n",
              "      <div>\n",
              "<style scoped>\n",
              "    .dataframe tbody tr th:only-of-type {\n",
              "        vertical-align: middle;\n",
              "    }\n",
              "\n",
              "    .dataframe tbody tr th {\n",
              "        vertical-align: top;\n",
              "    }\n",
              "\n",
              "    .dataframe thead th {\n",
              "        text-align: right;\n",
              "    }\n",
              "</style>\n",
              "<table border=\"1\" class=\"dataframe\">\n",
              "  <thead>\n",
              "    <tr style=\"text-align: right;\">\n",
              "      <th></th>\n",
              "      <th>PassengerId</th>\n",
              "      <th>Survived</th>\n",
              "      <th>Pclass</th>\n",
              "      <th>Name</th>\n",
              "      <th>Sex</th>\n",
              "      <th>Age</th>\n",
              "      <th>SibSp</th>\n",
              "      <th>Parch</th>\n",
              "      <th>Ticket</th>\n",
              "      <th>Fare</th>\n",
              "      <th>Cabin</th>\n",
              "      <th>Embarked</th>\n",
              "    </tr>\n",
              "  </thead>\n",
              "  <tbody>\n",
              "    <tr>\n",
              "      <th>0</th>\n",
              "      <td>1</td>\n",
              "      <td>0</td>\n",
              "      <td>3</td>\n",
              "      <td>Braund, Mr. Owen Harris</td>\n",
              "      <td>male</td>\n",
              "      <td>22.0</td>\n",
              "      <td>1</td>\n",
              "      <td>0</td>\n",
              "      <td>A/5 21171</td>\n",
              "      <td>7.2500</td>\n",
              "      <td>NaN</td>\n",
              "      <td>S</td>\n",
              "    </tr>\n",
              "    <tr>\n",
              "      <th>1</th>\n",
              "      <td>2</td>\n",
              "      <td>1</td>\n",
              "      <td>1</td>\n",
              "      <td>Cumings, Mrs. John Bradley (Florence Briggs Th...</td>\n",
              "      <td>female</td>\n",
              "      <td>38.0</td>\n",
              "      <td>1</td>\n",
              "      <td>0</td>\n",
              "      <td>PC 17599</td>\n",
              "      <td>71.2833</td>\n",
              "      <td>C85</td>\n",
              "      <td>C</td>\n",
              "    </tr>\n",
              "    <tr>\n",
              "      <th>2</th>\n",
              "      <td>3</td>\n",
              "      <td>1</td>\n",
              "      <td>3</td>\n",
              "      <td>Heikkinen, Miss. Laina</td>\n",
              "      <td>female</td>\n",
              "      <td>26.0</td>\n",
              "      <td>0</td>\n",
              "      <td>0</td>\n",
              "      <td>STON/O2. 3101282</td>\n",
              "      <td>7.9250</td>\n",
              "      <td>NaN</td>\n",
              "      <td>S</td>\n",
              "    </tr>\n",
              "    <tr>\n",
              "      <th>3</th>\n",
              "      <td>4</td>\n",
              "      <td>1</td>\n",
              "      <td>1</td>\n",
              "      <td>Futrelle, Mrs. Jacques Heath (Lily May Peel)</td>\n",
              "      <td>female</td>\n",
              "      <td>35.0</td>\n",
              "      <td>1</td>\n",
              "      <td>0</td>\n",
              "      <td>113803</td>\n",
              "      <td>53.1000</td>\n",
              "      <td>C123</td>\n",
              "      <td>S</td>\n",
              "    </tr>\n",
              "    <tr>\n",
              "      <th>4</th>\n",
              "      <td>5</td>\n",
              "      <td>0</td>\n",
              "      <td>3</td>\n",
              "      <td>Allen, Mr. William Henry</td>\n",
              "      <td>male</td>\n",
              "      <td>35.0</td>\n",
              "      <td>0</td>\n",
              "      <td>0</td>\n",
              "      <td>373450</td>\n",
              "      <td>8.0500</td>\n",
              "      <td>NaN</td>\n",
              "      <td>S</td>\n",
              "    </tr>\n",
              "  </tbody>\n",
              "</table>\n",
              "</div>\n",
              "      <button class=\"colab-df-convert\" onclick=\"convertToInteractive('df-ea734eb3-a9f2-491d-910f-9477b6a91aa6')\"\n",
              "              title=\"Convert this dataframe to an interactive table.\"\n",
              "              style=\"display:none;\">\n",
              "        \n",
              "  <svg xmlns=\"http://www.w3.org/2000/svg\" height=\"24px\"viewBox=\"0 0 24 24\"\n",
              "       width=\"24px\">\n",
              "    <path d=\"M0 0h24v24H0V0z\" fill=\"none\"/>\n",
              "    <path d=\"M18.56 5.44l.94 2.06.94-2.06 2.06-.94-2.06-.94-.94-2.06-.94 2.06-2.06.94zm-11 1L8.5 8.5l.94-2.06 2.06-.94-2.06-.94L8.5 2.5l-.94 2.06-2.06.94zm10 10l.94 2.06.94-2.06 2.06-.94-2.06-.94-.94-2.06-.94 2.06-2.06.94z\"/><path d=\"M17.41 7.96l-1.37-1.37c-.4-.4-.92-.59-1.43-.59-.52 0-1.04.2-1.43.59L10.3 9.45l-7.72 7.72c-.78.78-.78 2.05 0 2.83L4 21.41c.39.39.9.59 1.41.59.51 0 1.02-.2 1.41-.59l7.78-7.78 2.81-2.81c.8-.78.8-2.07 0-2.86zM5.41 20L4 18.59l7.72-7.72 1.47 1.35L5.41 20z\"/>\n",
              "  </svg>\n",
              "      </button>\n",
              "      \n",
              "  <style>\n",
              "    .colab-df-container {\n",
              "      display:flex;\n",
              "      flex-wrap:wrap;\n",
              "      gap: 12px;\n",
              "    }\n",
              "\n",
              "    .colab-df-convert {\n",
              "      background-color: #E8F0FE;\n",
              "      border: none;\n",
              "      border-radius: 50%;\n",
              "      cursor: pointer;\n",
              "      display: none;\n",
              "      fill: #1967D2;\n",
              "      height: 32px;\n",
              "      padding: 0 0 0 0;\n",
              "      width: 32px;\n",
              "    }\n",
              "\n",
              "    .colab-df-convert:hover {\n",
              "      background-color: #E2EBFA;\n",
              "      box-shadow: 0px 1px 2px rgba(60, 64, 67, 0.3), 0px 1px 3px 1px rgba(60, 64, 67, 0.15);\n",
              "      fill: #174EA6;\n",
              "    }\n",
              "\n",
              "    [theme=dark] .colab-df-convert {\n",
              "      background-color: #3B4455;\n",
              "      fill: #D2E3FC;\n",
              "    }\n",
              "\n",
              "    [theme=dark] .colab-df-convert:hover {\n",
              "      background-color: #434B5C;\n",
              "      box-shadow: 0px 1px 3px 1px rgba(0, 0, 0, 0.15);\n",
              "      filter: drop-shadow(0px 1px 2px rgba(0, 0, 0, 0.3));\n",
              "      fill: #FFFFFF;\n",
              "    }\n",
              "  </style>\n",
              "\n",
              "      <script>\n",
              "        const buttonEl =\n",
              "          document.querySelector('#df-ea734eb3-a9f2-491d-910f-9477b6a91aa6 button.colab-df-convert');\n",
              "        buttonEl.style.display =\n",
              "          google.colab.kernel.accessAllowed ? 'block' : 'none';\n",
              "\n",
              "        async function convertToInteractive(key) {\n",
              "          const element = document.querySelector('#df-ea734eb3-a9f2-491d-910f-9477b6a91aa6');\n",
              "          const dataTable =\n",
              "            await google.colab.kernel.invokeFunction('convertToInteractive',\n",
              "                                                     [key], {});\n",
              "          if (!dataTable) return;\n",
              "\n",
              "          const docLinkHtml = 'Like what you see? Visit the ' +\n",
              "            '<a target=\"_blank\" href=https://colab.research.google.com/notebooks/data_table.ipynb>data table notebook</a>'\n",
              "            + ' to learn more about interactive tables.';\n",
              "          element.innerHTML = '';\n",
              "          dataTable['output_type'] = 'display_data';\n",
              "          await google.colab.output.renderOutput(dataTable, element);\n",
              "          const docLink = document.createElement('div');\n",
              "          docLink.innerHTML = docLinkHtml;\n",
              "          element.appendChild(docLink);\n",
              "        }\n",
              "      </script>\n",
              "    </div>\n",
              "  </div>\n",
              "  "
            ]
          },
          "metadata": {},
          "execution_count": 249
        }
      ],
      "source": [
        "training_data= pd.read_csv('train.csv')\n",
        "test_data= pd.read_csv('test.csv')\n",
        "training_data.head()"
      ]
    },
    {
      "cell_type": "markdown",
      "source": [
        "The columns availables are:\n",
        "- PassengerId: the unique id of the row and it doesn't have any effect on target\n",
        "- Survived: the target variable we are trying to predict (0 or 1):\n",
        "1 = Survived, 0 = Not Survived\n",
        "- Pclass (Passenger Class): is the socio-economic status of the passenger and it is a categorical ordinal feature which has 3 unique values (1, 2 or 3):\n",
        "1 = Upper Class, 2 = Middle Class, 3 = Lower Class\n",
        "- Name, Sex and Age are self-explanatory\n",
        "- SibSp: the total number of the passengers' siblings and spouse\n",
        "- Parch: the total number of the passengers' parents and children\n",
        "- Ticket: the ticket number of the passenger\n",
        "- Fare: the passenger fare\n",
        "- Cabin: the cabin number of the passenger\n"
      ],
      "metadata": {
        "id": "jJaTVEoOWOQl"
      }
    },
    {
      "cell_type": "code",
      "source": [
        "def concat_df(train_data, test_data):\n",
        "    # Returns a concatenated df of training and test set\n",
        "    return pd.concat([train_data, test_data], sort=True).reset_index(drop=True)\n",
        "\n",
        "def divide_df(all_data):\n",
        "    # Returns divided dfs of training and test set\n",
        "    return all_data.loc[:890], all_data.loc[891:].drop(['Survived'], axis=1)\n",
        "\n",
        "train_data = concat_df(training_data, test_data)"
      ],
      "metadata": {
        "id": "_-KsET6anZai"
      },
      "execution_count": 250,
      "outputs": []
    },
    {
      "cell_type": "code",
      "source": [
        "train_data.hist()"
      ],
      "metadata": {
        "colab": {
          "base_uri": "https://localhost:8080/",
          "height": 420
        },
        "id": "XJasyAV-4pEv",
        "outputId": "f79a9c3f-b8a3-4660-c497-263bf70c9e73"
      },
      "execution_count": 251,
      "outputs": [
        {
          "output_type": "execute_result",
          "data": {
            "text/plain": [
              "array([[<Axes: title={'center': 'Age'}>,\n",
              "        <Axes: title={'center': 'Fare'}>,\n",
              "        <Axes: title={'center': 'Parch'}>],\n",
              "       [<Axes: title={'center': 'PassengerId'}>,\n",
              "        <Axes: title={'center': 'Pclass'}>,\n",
              "        <Axes: title={'center': 'SibSp'}>],\n",
              "       [<Axes: title={'center': 'Survived'}>, <Axes: >, <Axes: >]],\n",
              "      dtype=object)"
            ]
          },
          "metadata": {},
          "execution_count": 251
        },
        {
          "output_type": "display_data",
          "data": {
            "text/plain": [
              "<Figure size 432x288 with 9 Axes>"
            ],
            "image/png": "[encoded data removed]"
          },
          "metadata": {
            "needs_background": "light"
          }
        }
      ]
    },
    {
      "cell_type": "markdown",
      "source": [
        "We can see that the age has a distributin similar to a normal distribution, however the fare is skewed, and this could have some impacts in the results."
      ],
      "metadata": {
        "id": "xtvfWoyRXope"
      }
    },
    {
      "cell_type": "code",
      "source": [
        "sns.heatmap(train_data.corr(), square=True,annot=True)"
      ],
      "metadata": {
        "colab": {
          "base_uri": "https://localhost:8080/",
          "height": 337
        },
        "id": "4ZurDRBL47My",
        "outputId": "00096ec9-0318-4384-9b85-bd5aa36ed3f4"
      },
      "execution_count": 252,
      "outputs": [
        {
          "output_type": "execute_result",
          "data": {
            "text/plain": [
              "<Axes: >"
            ]
          },
          "metadata": {},
          "execution_count": 252
        },
        {
          "output_type": "display_data",
          "data": {
            "text/plain": [
              "<Figure size 432x288 with 2 Axes>"
            ],
            "image/png": "[encoded data removed]"
          },
          "metadata": {
            "needs_background": "light"
          }
        }
      ]
    },
    {
      "cell_type": "markdown",
      "source": [
        "On the correlation matrix we can see that there are some important relationships, like Pclass with Fare with a correlation of -0.56 or Pclass with age with -0.41. This correlations make sense, as they implied that people of Upper class payed a higher fare and that people from Upper class tend to have more age."
      ],
      "metadata": {
        "id": "EhkZJ74HYM2y"
      }
    },
    {
      "cell_type": "markdown",
      "source": [
        "#Data cleaning and feature engineering"
      ],
      "metadata": {
        "id": "xSepjjxtiaeV"
      }
    },
    {
      "cell_type": "code",
      "source": [
        "print('Null Values =',train_data.isnull().sum())"
      ],
      "metadata": {
        "colab": {
          "base_uri": "https://localhost:8080/"
        },
        "id": "Cb-xMrhqD9rD",
        "outputId": "9fae1b51-e39a-4722-d11a-64d17b2231a5"
      },
      "execution_count": 253,
      "outputs": [
        {
          "output_type": "stream",
          "name": "stdout",
          "text": [
            "Null Values = Age             263\n",
            "Cabin          1014\n",
            "Embarked          2\n",
            "Fare              1\n",
            "Name              0\n",
            "Parch             0\n",
            "PassengerId       0\n",
            "Pclass            0\n",
            "Sex               0\n",
            "SibSp             0\n",
            "Survived        418\n",
            "Ticket            0\n",
            "dtype: int64\n"
          ]
        }
      ]
    },
    {
      "cell_type": "markdown",
      "source": [
        "We first look at the missing values, we can see that there are a lot of missing values in cabin and age. The column cabin will not say much, but we can extract some other variables from it"
      ],
      "metadata": {
        "id": "zNW1D5fmjc7B"
      }
    },
    {
      "cell_type": "code",
      "source": [
        "train_data['Cabin'][:30]"
      ],
      "metadata": {
        "colab": {
          "base_uri": "https://localhost:8080/"
        },
        "id": "_xHxmJNyBtpt",
        "outputId": "e7e70b17-fffe-4fd2-8b5c-afee960966b4"
      },
      "execution_count": 254,
      "outputs": [
        {
          "output_type": "execute_result",
          "data": {
            "text/plain": [
              "0             NaN\n",
              "1             C85\n",
              "2             NaN\n",
              "3            C123\n",
              "4             NaN\n",
              "5             NaN\n",
              "6             E46\n",
              "7             NaN\n",
              "8             NaN\n",
              "9             NaN\n",
              "10             G6\n",
              "11           C103\n",
              "12            NaN\n",
              "13            NaN\n",
              "14            NaN\n",
              "15            NaN\n",
              "16            NaN\n",
              "17            NaN\n",
              "18            NaN\n",
              "19            NaN\n",
              "20            NaN\n",
              "21            D56\n",
              "22            NaN\n",
              "23             A6\n",
              "24            NaN\n",
              "25            NaN\n",
              "26            NaN\n",
              "27    C23 C25 C27\n",
              "28            NaN\n",
              "29            NaN\n",
              "Name: Cabin, dtype: object"
            ]
          },
          "metadata": {},
          "execution_count": 254
        }
      ]
    },
    {
      "cell_type": "markdown",
      "source": [
        " From the cabin data we extract the first letter, as it indicates the sector of the ship where their cabin was located, and could be a significant variable."
      ],
      "metadata": {
        "id": "YZRJ6Bi0ltbO"
      }
    },
    {
      "cell_type": "code",
      "source": [
        "train_data['Cabin_l']= train_data.Cabin.apply(lambda x: str(x)[0])\n",
        "idx = train_data[train_data['Cabin_l'] == 'T'].index\n",
        "train_data.loc[idx, 'Deck'] = 'A'\n"
      ],
      "metadata": {
        "id": "TS4NAIjuGxT2"
      },
      "execution_count": 255,
      "outputs": []
    },
    {
      "cell_type": "code",
      "source": [
        "print(pd.pivot_table(train_data, index='Survived', columns='Pclass', values='Ticket', aggfunc='count'))"
      ],
      "metadata": {
        "colab": {
          "base_uri": "https://localhost:8080/"
        },
        "id": "bJbMLJXGVRaD",
        "outputId": "9321d86f-d24a-4102-f4dc-012bda9e51f3"
      },
      "execution_count": 256,
      "outputs": [
        {
          "output_type": "stream",
          "name": "stdout",
          "text": [
            "Pclass      1   2    3\n",
            "Survived              \n",
            "0.0        80  97  372\n",
            "1.0       136  87  119\n"
          ]
        }
      ]
    },
    {
      "cell_type": "markdown",
      "source": [
        "On the column Cabin we can see that some passangers had more than one cabin, so we are going count them and use it as another variable that could help in the prediction"
      ],
      "metadata": {
        "id": "vZSkY-1Difgj"
      }
    },
    {
      "cell_type": "code",
      "source": [
        "train_data['Cabin_multiple']= train_data.Cabin.apply(lambda x: 0 if pd.isna(x) else len(x.split(' ')))"
      ],
      "metadata": {
        "id": "vPpGAAc9Yo-H"
      },
      "execution_count": 257,
      "outputs": []
    },
    {
      "cell_type": "markdown",
      "source": [
        "Now from the name we can extract also the title of each person and save it in another column"
      ],
      "metadata": {
        "id": "Vx1SRof9mPFj"
      }
    },
    {
      "cell_type": "code",
      "source": [
        "train_data['title']= train_data.Name.apply(lambda x: x.split(',')[1].split('.')[0].strip())"
      ],
      "metadata": {
        "id": "IC8SAXPxUwVX"
      },
      "execution_count": 258,
      "outputs": []
    },
    {
      "cell_type": "markdown",
      "source": [
        "Looking at the tickets, there are a lot of different formats, so we are going to create a binary variable that states if is numeric or not and also a variable with all the letters cleaned"
      ],
      "metadata": {
        "id": "fDkkxOVdnUru"
      }
    },
    {
      "cell_type": "code",
      "source": [
        "train_data['Ticket']"
      ],
      "metadata": {
        "colab": {
          "base_uri": "https://localhost:8080/"
        },
        "id": "QxL-Kvl00t0d",
        "outputId": "06eaf118-4eb7-46b2-de88-e7f6d741ec0f"
      },
      "execution_count": 259,
      "outputs": [
        {
          "output_type": "execute_result",
          "data": {
            "text/plain": [
              "0                A/5 21171\n",
              "1                 PC 17599\n",
              "2         STON/O2. 3101282\n",
              "3                   113803\n",
              "4                   373450\n",
              "               ...        \n",
              "1304             A.5. 3236\n",
              "1305              PC 17758\n",
              "1306    SOTON/O.Q. 3101262\n",
              "1307                359309\n",
              "1308                  2668\n",
              "Name: Ticket, Length: 1309, dtype: object"
            ]
          },
          "metadata": {},
          "execution_count": 259
        }
      ]
    },
    {
      "cell_type": "code",
      "source": [
        "train_data['numeric_ticket']= train_data.Ticket.apply(lambda x: 1 if x.isnumeric() else 0 )\n",
        "train_data['ticket_letters']= train_data.Ticket.apply(lambda x: ''.join(x.split(' ')[:-1]).replace('.', '').replace('/','').lower() if len(x.split(' ')[:-1])>0 else 0)"
      ],
      "metadata": {
        "id": "4SuVJkSLyxFe"
      },
      "execution_count": 260,
      "outputs": []
    },
    {
      "cell_type": "code",
      "source": [
        "train_data['title'].value_counts()"
      ],
      "metadata": {
        "colab": {
          "base_uri": "https://localhost:8080/"
        },
        "id": "Ttf_JUMUvGkb",
        "outputId": "bb1d8a68-6187-4f81-ba49-abd828acbbd0"
      },
      "execution_count": 261,
      "outputs": [
        {
          "output_type": "execute_result",
          "data": {
            "text/plain": [
              "Mr              757\n",
              "Miss            260\n",
              "Mrs             197\n",
              "Master           61\n",
              "Rev               8\n",
              "Dr                8\n",
              "Col               4\n",
              "Mlle              2\n",
              "Major             2\n",
              "Ms                2\n",
              "Lady              1\n",
              "Sir               1\n",
              "Mme               1\n",
              "Don               1\n",
              "Capt              1\n",
              "the Countess      1\n",
              "Jonkheer          1\n",
              "Dona              1\n",
              "Name: title, dtype: int64"
            ]
          },
          "metadata": {},
          "execution_count": 261
        }
      ]
    },
    {
      "cell_type": "markdown",
      "source": [
        "For the missing values of age we use the median age of passengers with the same Sex and Pclass, because as we stated before, there is a high correlation between them, so it should be a good aproximator "
      ],
      "metadata": {
        "id": "jlQJK9zGojzK"
      }
    },
    {
      "cell_type": "code",
      "source": [
        "age_by_pclass_sex = train_data.groupby(['Sex', 'Pclass']).median()['Age']\n",
        "train_data['Age']= train_data.groupby(['Sex','Pclass'])['Age'].apply(lambda x: x.fillna(x.median()))"
      ],
      "metadata": {
        "id": "tG15Q9vcohaq"
      },
      "execution_count": 262,
      "outputs": []
    },
    {
      "cell_type": "code",
      "source": [
        "train_data['Embarked']= train_data['Embarked'].fillna(value='S', inplace=True)\n",
        "\n",
        "med_fare= train_data.groupby(['Pclass','Parch','SibSp']).Fare.median()[3][0][0]\n",
        "train_data['Fare'].fillna(value=med_fare, inplace=True)\n"
      ],
      "metadata": {
        "id": "aD7ICpZY6wBg"
      },
      "execution_count": 263,
      "outputs": []
    },
    {
      "cell_type": "markdown",
      "source": [
        "Creation of other variables that might be helpful for the model"
      ],
      "metadata": {
        "id": "RpQc6C5Pp9G2"
      }
    },
    {
      "cell_type": "code",
      "source": [
        "train_data['Family_Size'] = train_data['SibSp'] + train_data['Parch'] + 1\n",
        "train_data['Ticket_Frequency'] = train_data.groupby('Ticket')['Ticket'].transform('count')"
      ],
      "metadata": {
        "id": "aJyBR0G-pzEc"
      },
      "execution_count": 264,
      "outputs": []
    },
    {
      "cell_type": "markdown",
      "source": [
        "Normalization of the Fare"
      ],
      "metadata": {
        "id": "pTdLaDxxp0gW"
      }
    },
    {
      "cell_type": "code",
      "source": [
        "train_data['norm_Fare']= np.log(train_data['Fare']+1)"
      ],
      "metadata": {
        "id": "6Z4CTfoFMMcw"
      },
      "execution_count": 265,
      "outputs": []
    },
    {
      "cell_type": "markdown",
      "source": [
        "Now we choose the variables that are going to be used in the models and divide the data into train and test sets"
      ],
      "metadata": {
        "id": "JR_gKO0bqN7C"
      }
    },
    {
      "cell_type": "code",
      "source": [
        "\n",
        "features = [\"Survived\",\"Pclass\", \"Sex\", \"SibSp\", \"Parch\", \"Age\", \"Fare\", 'Embarked',\"Cabin_l\", \"Cabin_multiple\", 'title', 'numeric_ticket','ticket_letters', 'Family_Size','Ticket_Frequency']\n",
        "X = pd.get_dummies(train_data[features])\n",
        "\n",
        "X.columns = [col.replace('[', '(').replace(']',')') for col in X.columns.tolist()]\n",
        "\n",
        "\n",
        "X, test_x = divide_df(X)\n",
        "\n",
        "y = X[\"Survived\"]\n",
        "X=X.drop(columns=['Survived'])\n",
        "\n",
        "X_train, X_test, y_train, y_test = train_test_split(X, y, test_size=0.1, random_state=0)"
      ],
      "metadata": {
        "id": "DfknydMZ02ts"
      },
      "execution_count": 266,
      "outputs": []
    },
    {
      "cell_type": "code",
      "source": [
        "#scaler= StandardScaler()\n",
        "#X_train=scaler.fit_transform(X_train)\n",
        "#X_test = scaler.transform(X_test)\n",
        "#test_x= scaler.transform(test_x)\n"
      ],
      "metadata": {
        "id": "pQe9WS2NIJpk"
      },
      "execution_count": 267,
      "outputs": []
    },
    {
      "cell_type": "markdown",
      "source": [
        "#Machine Learning Models"
      ],
      "metadata": {
        "id": "hTYmC-EVrp92"
      }
    },
    {
      "cell_type": "markdown",
      "source": [
        "Now that the data is ready, it is time to train and test the models.\n",
        "Several models were used looking for the best predictor.\n",
        "In each model cross validation was used to avoid overfitting.\n",
        "Also they are tested with confusion matrix and a classification report that have all the metrics of the test set"
      ],
      "metadata": {
        "id": "7MZplgzhsG7H"
      }
    },
    {
      "cell_type": "code",
      "source": [
        "kf=KFold(n_splits=5, shuffle=True, random_state=42)\n",
        "#SVR\n",
        "SVC_rbf=SVC(kernel='rbf',C=1,gamma=0.1)\n",
        "cv_results_SVC= cross_val_score(SVC_rbf, X_train, y_train, cv=kf)\n",
        "print('Cross-Validation',cv_results_SVC, 'Mean',np.mean(cv_results_SVC), 'Std',np.std(cv_results_SVC))\n",
        "SVC_rbf.fit(X_train, y_train)\n",
        "y_pred= SVC_rbf.predict(X_test)\n",
        "print('Confusion Matrix:','\\n',confusion_matrix(y_test, y_pred))\n",
        "print('Classification_report: ','\\n', classification_report(y_test, y_pred))\n"
      ],
      "metadata": {
        "colab": {
          "base_uri": "https://localhost:8080/"
        },
        "id": "ABnSKl-06-V-",
        "outputId": "73e1116e-2ea7-4909-efbb-ec9fffef0ff0"
      },
      "execution_count": 268,
      "outputs": [
        {
          "output_type": "stream",
          "name": "stdout",
          "text": [
            "Cross-Validation [0.70186335 0.76875    0.81875    0.775      0.69375   ] Mean 0.7516226708074535 Std 0.047267660999450116\n",
            "Confusion Matrix: \n",
            " [[44  7]\n",
            " [19 20]]\n",
            "Classification_report:  \n",
            "               precision    recall  f1-score   support\n",
            "\n",
            "         0.0       0.70      0.86      0.77        51\n",
            "         1.0       0.74      0.51      0.61        39\n",
            "\n",
            "    accuracy                           0.71        90\n",
            "   macro avg       0.72      0.69      0.69        90\n",
            "weighted avg       0.72      0.71      0.70        90\n",
            "\n"
          ]
        }
      ]
    },
    {
      "cell_type": "markdown",
      "source": [
        "###Decision Tree"
      ],
      "metadata": {
        "id": "u-w1JqMiXY79"
      }
    },
    {
      "cell_type": "code",
      "source": [
        "kf=KFold(n_splits=5, shuffle=True, random_state=42)\n",
        "param_grid = {}\n",
        "#TREE\n",
        "clf1 = DecisionTreeClassifier(criterion='entropy', min_samples_split=2, min_samples_leaf=1)\n",
        "cv_results_SVC= cross_val_score(clf1, X_train, y_train, cv=kf)\n",
        "print('Cross-Validation',cv_results_SVC, 'Mean',np.mean(cv_results_SVC), 'Std',np.std(cv_results_SVC))\n",
        "clf1.fit(X_train, y_train)\n",
        "y_pred= clf1.predict(X_test)\n",
        "print('Confusion Matrix:','\\n',confusion_matrix(y_test, y_pred))\n",
        "print('Classification_report: ','\\n', classification_report(y_test, y_pred))"
      ],
      "metadata": {
        "colab": {
          "base_uri": "https://localhost:8080/"
        },
        "id": "s4Ojd5axO5GO",
        "outputId": "49962443-c32e-4147-fc1b-90780197d762"
      },
      "execution_count": 269,
      "outputs": [
        {
          "output_type": "stream",
          "name": "stdout",
          "text": [
            "Cross-Validation [0.74534161 0.7625     0.825      0.78125    0.79375   ] Mean 0.7815683229813665 Std 0.027242541997386727\n",
            "Confusion Matrix: \n",
            " [[43  8]\n",
            " [14 25]]\n",
            "Classification_report:  \n",
            "               precision    recall  f1-score   support\n",
            "\n",
            "         0.0       0.75      0.84      0.80        51\n",
            "         1.0       0.76      0.64      0.69        39\n",
            "\n",
            "    accuracy                           0.76        90\n",
            "   macro avg       0.76      0.74      0.75        90\n",
            "weighted avg       0.76      0.76      0.75        90\n",
            "\n"
          ]
        }
      ]
    },
    {
      "cell_type": "markdown",
      "source": [
        "###Logistic"
      ],
      "metadata": {
        "id": "H_HNdHeXXVj8"
      }
    },
    {
      "cell_type": "code",
      "source": [
        "kf=KFold(n_splits=5, shuffle=True, random_state=42)\n",
        "param_grid = {}\n",
        "#TREE\n",
        "regL = LogisticRegression()\n",
        "cv_results_SVC= cross_val_score(regL, X_train, y_train, cv=kf)\n",
        "print('Cross-Validation',cv_results_SVC, 'Mean',np.mean(cv_results_SVC), 'Std',np.std(cv_results_SVC))\n",
        "regL.fit(X_train, y_train)\n",
        "y_pred= regL.predict(X_test)\n",
        "print('Confusion Matrix:','\\n',confusion_matrix(y_test, y_pred))\n",
        "print('Classification_report: ','\\n', classification_report(y_test, y_pred))"
      ],
      "metadata": {
        "colab": {
          "base_uri": "https://localhost:8080/"
        },
        "id": "oNm_gHDqPTM6",
        "outputId": "bc6e2d9f-17ea-465a-b79b-cc49b65682c3"
      },
      "execution_count": 270,
      "outputs": [
        {
          "output_type": "stream",
          "name": "stdout",
          "text": [
            "Cross-Validation [0.79503106 0.7875     0.8875     0.81875    0.80625   ] Mean 0.8190062111801242 Std 0.03583750853043597\n",
            "Confusion Matrix: \n",
            " [[45  6]\n",
            " [ 9 30]]\n",
            "Classification_report:  \n",
            "               precision    recall  f1-score   support\n",
            "\n",
            "         0.0       0.83      0.88      0.86        51\n",
            "         1.0       0.83      0.77      0.80        39\n",
            "\n",
            "    accuracy                           0.83        90\n",
            "   macro avg       0.83      0.83      0.83        90\n",
            "weighted avg       0.83      0.83      0.83        90\n",
            "\n"
          ]
        }
      ]
    },
    {
      "cell_type": "markdown",
      "source": [
        "###Random Forest"
      ],
      "metadata": {
        "id": "dE2hdHkoXP2Y"
      }
    },
    {
      "cell_type": "markdown",
      "source": [
        "For the Random Forest we choose to use a grid search to look for the best parameters and achieve a better accuracy"
      ],
      "metadata": {
        "id": "XHRoqPcbs-mc"
      }
    },
    {
      "cell_type": "code",
      "source": [
        "kf=KFold(n_splits=5, shuffle=True, random_state=42)\n",
        "param_grid = {'criterion':['gini','entropy','log_loss'], 'max_depth':[None,10,50], 'min_samples_split':[2,4,8], 'n_estimators':[10,50,100]}\n",
        "clf=RandomForestClassifier()\n",
        "clf_cv=GridSearchCV(clf, param_grid, cv=kf)\n",
        "clf_cv.fit(X_train, y_train)\n",
        "print(clf_cv.best_params_, clf_cv.best_score_)"
      ],
      "metadata": {
        "id": "9Hu8SmeLOUSs",
        "colab": {
          "base_uri": "https://localhost:8080/"
        },
        "outputId": "cd7899ee-f845-400d-a982-8c42bd00d796"
      },
      "execution_count": 282,
      "outputs": [
        {
          "output_type": "stream",
          "name": "stdout",
          "text": [
            "{'criterion': 'gini', 'max_depth': None, 'min_samples_split': 4, 'n_estimators': 100} 0.8402329192546583\n"
          ]
        }
      ]
    },
    {
      "cell_type": "markdown",
      "source": [
        "Then these parameters are used to train the model"
      ],
      "metadata": {
        "id": "SGpQXMANtkDX"
      }
    },
    {
      "cell_type": "code",
      "source": [
        "kf=KFold(n_splits=5, shuffle=True, random_state=42)\n",
        "param_grid = {}\n",
        "#TREE\n",
        "clf=RandomForestClassifier(n_estimators= 100, criterion='gini', max_depth=None, min_samples_split=4)\n",
        "cv_results_SVC= cross_val_score(clf, X_train, y_train, cv=kf)\n",
        "print('Cross-Validation',cv_results_SVC, 'Mean',np.mean(cv_results_SVC), 'Std',np.std(cv_results_SVC))\n",
        "clf.fit(X_train, y_train)\n",
        "y_pred= clf.predict(X_test)\n",
        "print('Confusion Matrix:','\\n',confusion_matrix(y_test, y_pred))\n",
        "print('Classification_report: ','\\n', classification_report(y_test, y_pred))"
      ],
      "metadata": {
        "colab": {
          "base_uri": "https://localhost:8080/"
        },
        "id": "zRbL5RKCTrB6",
        "outputId": "283b7ab6-d1dc-4218-db47-b93aeab14a0a"
      },
      "execution_count": 283,
      "outputs": [
        {
          "output_type": "stream",
          "name": "stdout",
          "text": [
            "Cross-Validation [0.80745342 0.81875    0.8625     0.83125    0.8375    ] Mean 0.8314906832298137 Std 0.018643297781716944\n",
            "Confusion Matrix: \n",
            " [[49  2]\n",
            " [12 27]]\n",
            "Classification_report:  \n",
            "               precision    recall  f1-score   support\n",
            "\n",
            "         0.0       0.80      0.96      0.88        51\n",
            "         1.0       0.93      0.69      0.79        39\n",
            "\n",
            "    accuracy                           0.84        90\n",
            "   macro avg       0.87      0.83      0.83        90\n",
            "weighted avg       0.86      0.84      0.84        90\n",
            "\n"
          ]
        }
      ]
    },
    {
      "cell_type": "markdown",
      "source": [
        "###KNN"
      ],
      "metadata": {
        "id": "fTYtNLs5XKpf"
      }
    },
    {
      "cell_type": "code",
      "source": [
        "kf=KFold(n_splits=5, shuffle=True, random_state=42)\n",
        "param_grid = {}\n",
        "knn=KNeighborsClassifier()\n",
        "cv_results_SVC= cross_val_score(knn, X_train, y_train, cv=kf)\n",
        "print('Cross-Validation',cv_results_SVC, 'Mean',np.mean(cv_results_SVC), 'Std',np.std(cv_results_SVC))\n",
        "knn.fit(X_train, y_train)\n",
        "y_pred= knn.predict(X_test)\n",
        "print('Confusion Matrix:','\\n',confusion_matrix(y_test, y_pred))\n",
        "print('Classification_report: ','\\n', classification_report(y_test, y_pred))"
      ],
      "metadata": {
        "colab": {
          "base_uri": "https://localhost:8080/"
        },
        "id": "OLMwnrRUW5LX",
        "outputId": "82647075-2cc5-4866-dabc-118d7181c81a"
      },
      "execution_count": 275,
      "outputs": [
        {
          "output_type": "stream",
          "name": "stdout",
          "text": [
            "Cross-Validation [0.71428571 0.73125    0.8125     0.73125    0.73125   ] Mean 0.7441071428571429 Std 0.034821886443876134\n",
            "Confusion Matrix: \n",
            " [[44  7]\n",
            " [15 24]]\n",
            "Classification_report:  \n",
            "               precision    recall  f1-score   support\n",
            "\n",
            "         0.0       0.75      0.86      0.80        51\n",
            "         1.0       0.77      0.62      0.69        39\n",
            "\n",
            "    accuracy                           0.76        90\n",
            "   macro avg       0.76      0.74      0.74        90\n",
            "weighted avg       0.76      0.76      0.75        90\n",
            "\n"
          ]
        }
      ]
    },
    {
      "cell_type": "markdown",
      "source": [
        "###AdaBoost"
      ],
      "metadata": {
        "id": "wybfyBDvLgX6"
      }
    },
    {
      "cell_type": "markdown",
      "source": [
        "Now some ensembled models"
      ],
      "metadata": {
        "id": "dXM-KCGGtu7a"
      }
    },
    {
      "cell_type": "code",
      "source": [
        "kf=KFold(n_splits=5, shuffle=True, random_state=42)\n",
        "param_grid = {}\n",
        "#TREE\n",
        "abc=AdaBoostClassifier(base_estimator= regL,n_estimators=100)\n",
        "cv_results_SVC= cross_val_score(abc, X_train, y_train, cv=kf)\n",
        "print('Cross-Validation',cv_results_SVC, 'Mean',np.mean(cv_results_SVC), 'Std',np.std(cv_results_SVC))\n",
        "abc.fit(X_train, y_train)\n",
        "y_pred= abc.predict(X_test)\n",
        "print('Confusion Matrix:','\\n',confusion_matrix(y_test, y_pred))\n",
        "print('Classification_report: ','\\n', classification_report(y_test, y_pred))"
      ],
      "metadata": {
        "colab": {
          "base_uri": "https://localhost:8080/"
        },
        "id": "wgVKVeHnLfyd",
        "outputId": "6664b2e6-dbb2-4a12-cc35-43f505a004fc"
      },
      "execution_count": 274,
      "outputs": [
        {
          "output_type": "stream",
          "name": "stdout",
          "text": [
            "Cross-Validation [0.79503106 0.8125     0.88125    0.81875    0.79375   ] Mean 0.8202562111801243 Std 0.03200486665678771\n",
            "Confusion Matrix: \n",
            " [[45  6]\n",
            " [ 9 30]]\n",
            "Classification_report:  \n",
            "               precision    recall  f1-score   support\n",
            "\n",
            "         0.0       0.83      0.88      0.86        51\n",
            "         1.0       0.83      0.77      0.80        39\n",
            "\n",
            "    accuracy                           0.83        90\n",
            "   macro avg       0.83      0.83      0.83        90\n",
            "weighted avg       0.83      0.83      0.83        90\n",
            "\n"
          ]
        }
      ]
    },
    {
      "cell_type": "markdown",
      "source": [
        "###Gradient Booster"
      ],
      "metadata": {
        "id": "aunoUSnF426a"
      }
    },
    {
      "cell_type": "code",
      "source": [
        "kf=KFold(n_splits=6, shuffle=True, random_state=42)\n",
        "param_grid = {}\n",
        "gbc = GradientBoostingClassifier(init=regL, learning_rate=0.1, n_estimators=100)\n",
        "cv_results_SVC= cross_val_score(regL, X_train, y_train, cv=kf)\n",
        "print('Cross-Validation',cv_results_SVC, 'Mean',np.mean(cv_results_SVC), 'Std',np.std(cv_results_SVC))\n",
        "gbc.fit(X_train, y_train)\n",
        "y_pred= gbc.predict(X_test)\n",
        "print('Confusion Matrix:','\\n',confusion_matrix(y_test, y_pred))\n",
        "print('Classification_report: ','\\n', classification_report(y_test, y_pred))"
      ],
      "metadata": {
        "id": "f1HdH221gqc3",
        "colab": {
          "base_uri": "https://localhost:8080/"
        },
        "outputId": "4a6ee4e8-027f-429a-b6c5-8e3abff4cb69"
      },
      "execution_count": 277,
      "outputs": [
        {
          "output_type": "stream",
          "name": "stdout",
          "text": [
            "Cross-Validation [0.78358209 0.7761194  0.86567164 0.88721805 0.84962406 0.78195489] Mean 0.8240283544682603 Std 0.04487684101422092\n",
            "Confusion Matrix: \n",
            " [[47  4]\n",
            " [ 8 31]]\n",
            "Classification_report:  \n",
            "               precision    recall  f1-score   support\n",
            "\n",
            "         0.0       0.85      0.92      0.89        51\n",
            "         1.0       0.89      0.79      0.84        39\n",
            "\n",
            "    accuracy                           0.87        90\n",
            "   macro avg       0.87      0.86      0.86        90\n",
            "weighted avg       0.87      0.87      0.87        90\n",
            "\n"
          ]
        }
      ]
    },
    {
      "cell_type": "code",
      "source": [
        "import xgboost as xgb\n",
        "xgb_model = xgb.XGBClassifier(objective=\"binary:logistic\", random_state=42)\n",
        "cv_results_SVC= cross_val_score(xgb_model, X_train, y_train, cv=kf)\n",
        "print('Cross-Validation',cv_results_SVC, 'Mean',np.mean(cv_results_SVC), 'Std',np.std(cv_results_SVC))"
      ],
      "metadata": {
        "id": "DuF8BX-hwS6h",
        "colab": {
          "base_uri": "https://localhost:8080/"
        },
        "outputId": "6f4556ba-6a03-4e69-fe76-65889299b769"
      },
      "execution_count": 278,
      "outputs": [
        {
          "output_type": "stream",
          "name": "stdout",
          "text": [
            "Cross-Validation [0.7761194  0.82835821 0.82835821 0.86466165 0.80451128 0.78947368] Mean 0.815247072906146 Std 0.02914362143313836\n"
          ]
        }
      ]
    },
    {
      "cell_type": "markdown",
      "source": [
        "Finally, we got great results from some of the models, but a good way to hedge the overfitting and to have a more general prediction is to combine them. So a final Voting Classifier is made using the models with the best scores.\n",
        "This voting model achieved the best score and is a good predictor of the survival label of the titanic dataset"
      ],
      "metadata": {
        "id": "FhR9sED5uE3D"
      }
    },
    {
      "cell_type": "code",
      "source": [
        "from sklearn.ensemble import VotingClassifier\n",
        "voting_clf= VotingClassifier(estimators=[('clf',clf),('gbc',gbc),('xgb',xgb_model), ('abc', abc)], voting='soft')\n",
        "cv_results_SVC= cross_val_score(voting_clf, X_train, y_train, cv=kf)\n",
        "print('Cross-Validation',cv_results_SVC, 'Mean',np.mean(cv_results_SVC), 'Std',np.std(cv_results_SVC))\n",
        "voting_clf.fit(X_train, y_train)\n",
        "y_pred= voting_clf.predict(X_test)\n",
        "print('Confusion Matrix:','\\n',confusion_matrix(y_test, y_pred))\n",
        "print('Classification_report: ','\\n', classification_report(y_test, y_pred))"
      ],
      "metadata": {
        "id": "kZMpKjNxPeSW",
        "colab": {
          "base_uri": "https://localhost:8080/"
        },
        "outputId": "84b6eca8-f916-45ab-8d30-d65eff3c052f"
      },
      "execution_count": 279,
      "outputs": [
        {
          "output_type": "stream",
          "name": "stdout",
          "text": [
            "Cross-Validation [0.82835821 0.79850746 0.84328358 0.87969925 0.84962406 0.80451128] Mean 0.8339973066995848 Std 0.02762804164864576\n",
            "Confusion Matrix: \n",
            " [[49  2]\n",
            " [10 29]]\n",
            "Classification_report:  \n",
            "               precision    recall  f1-score   support\n",
            "\n",
            "         0.0       0.83      0.96      0.89        51\n",
            "         1.0       0.94      0.74      0.83        39\n",
            "\n",
            "    accuracy                           0.87        90\n",
            "   macro avg       0.88      0.85      0.86        90\n",
            "weighted avg       0.88      0.87      0.86        90\n",
            "\n"
          ]
        }
      ]
    },
    {
      "cell_type": "code",
      "source": [
        "predictions= voting_clf.predict(test_x)"
      ],
      "metadata": {
        "id": "zce0N9OjKK82"
      },
      "execution_count": 280,
      "outputs": []
    },
    {
      "cell_type": "code",
      "source": [
        "output = pd.DataFrame({'PassengerId': test_data.PassengerId, 'Survived': predictions})\n",
        "output.to_csv('submission_new.csv', index=False)\n",
        "print(\"Your submission was successfully saved!\")"
      ],
      "metadata": {
        "id": "klQTQ6p38IqN",
        "colab": {
          "base_uri": "https://localhost:8080/"
        },
        "outputId": "c554f11a-a7a0-4294-979c-703abe65b773"
      },
      "execution_count": 281,
      "outputs": [
        {
          "output_type": "stream",
          "name": "stdout",
          "text": [
            "Your submission was successfully saved!\n"
          ]
        }
      ]
    }
  ]
}